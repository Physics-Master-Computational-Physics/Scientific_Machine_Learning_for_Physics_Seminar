{
 "cells": [
  {
   "cell_type": "markdown",
   "metadata": {},
   "source": [
    "# Variational Autoencoder (VAE) from Scratch in PyTorch\n",
    "\n",
    "This notebook demonstrates how to build a Variational Autoencoder (VAE) for the MNIST dataset using PyTorch. We will implement the core components by hand and explain the connection between the code and the underlying theory and equations."
   ]
  },
  {
   "cell_type": "markdown",
   "metadata": {},
   "source": [
    "## 1. Introduction to VAEs\n",
    "\n",
    "Variational Autoencoders (VAEs) are generative models that learn a probability distribution over the input data. They consist of two main parts:\n",
    "\n",
    "1.  **Encoder (Recognition Model):** $q_\\phi(z|x)$. This network takes an input $x$ and outputs parameters (typically mean $\\mu$ and log-variance $\\log \\sigma^2$) for a probability distribution in the latent space, $z$. This distribution approximates the true posterior $p(z|x)$.\n",
    "2.  **Decoder (Generative Model):** $p_\\theta(x|z)$. This network takes a sample $z$ from the latent distribution and reconstructs the input data $x$.\n",
    "\n",
    "The goal of a VAE is to maximize the **Evidence Lower Bound (ELBO)**, which is a lower bound on the log-likelihood of the data $\\log p(x)$:\n",
    "\n",
    "$$ \\mathcal{L}(\\theta, \\phi; x) = \\mathbb{E}_{q_\\phi(z|x)}[\\log p_\\theta(x|z)] - D_{KL}(q_\\phi(z|x) || p(z)) $$ \n",
    "\n",
    "Where:\n",
    "- The first term, $\\mathbb{E}_{q_\\phi(z|x)}[\\log p_\\theta(x|z)]$, is the **reconstruction loss**. It encourages the decoder to accurately reconstruct the input $x$ from the latent representation $z$.\n",
    "- The second term, $D_{KL}(q_\\phi(z|x) || p(z))$, is the **Kullback-Leibler (KL) divergence** between the approximate posterior $q_\\phi(z|x)$ learned by the encoder and a prior distribution $p(z)$ over the latent variables (usually a standard normal distribution, $\\mathcal{N}(0, I)$). This term acts as a regularizer, forcing the latent space to be well-behaved (e.g., continuous and centered around the origin)."
   ]
  },
  {
   "cell_type": "markdown",
   "metadata": {},
   "source": [
    "## 2. Imports and Setup"
   ]
  },
  {
   "cell_type": "code",
   "execution_count": 1,
   "metadata": {},
   "outputs": [
    {
     "name": "stderr",
     "output_type": "stream",
     "text": [
      "/Users/samrouppe/opt/anaconda3/envs/3dcv-students/lib/python3.10/site-packages/tqdm/auto.py:21: TqdmWarning: IProgress not found. Please update jupyter and ipywidgets. See https://ipywidgets.readthedocs.io/en/stable/user_install.html\n",
      "  from .autonotebook import tqdm as notebook_tqdm\n"
     ]
    }
   ],
   "source": [
    "import torch\n",
    "import torch.nn as nn\n",
    "import torch.nn.functional as F\n",
    "import torch.optim as optim\n",
    "from torchvision import datasets, transforms\n",
    "from torch.utils.data import DataLoader\n",
    "import matplotlib.pyplot as plt\n",
    "import numpy as np\n",
    "\n",
    "# For reproducibility\n",
    "torch.manual_seed(42)\n",
    "np.random.seed(42)"
   ]
  },
  {
   "cell_type": "markdown",
   "metadata": {},
   "source": [
    "## 3. Hyperparameters and Device Configuration"
   ]
  },
  {
   "cell_type": "code",
   "execution_count": null,
   "metadata": {},
   "outputs": [
    {
     "name": "stdout",
     "output_type": "stream",
     "text": [
      "Using device: cpu\n"
     ]
    }
   ],
   "source": [
    "DEVICE = torch.device(\"cuda\" if torch.cuda.is_available() else \"cpu\")\n",
    "print(f\"Using device: {DEVICE}\")\n",
    "\n",
    "BATCH_SIZE = 128\n",
    "EPOCHS = 20 # Increase for better results, e.g., 20-50\n",
    "LEARNING_RATE = 1e-3\n",
    "INPUT_DIM = 28 * 28  # MNIST image dimensions (flattened)\n",
    "HIDDEN_DIM = 400    # Dimension of hidden layers\n",
    "LATENT_DIM = 20     # Dimension of the latent space z\n",
    "\n",
    "# New parameters for number of hidden layers\n",
    "NUM_ENCODER_LAYERS = 2 # e.g., input -> hidden -> hidden -> (mu, log_var)\n",
    "NUM_DECODER_LAYERS = 2 # e.g., latent -> hidden -> hidden -> output\n",
    "\n",
    "# For visualizing 2D latent space (optional, set LATENT_DIM=2 for this)\n",
    "# LATENT_DIM = 2 "
   ]
  },
  {
   "cell_type": "markdown",
   "metadata": {},
   "source": [
    "## 4. Data Loading (MNIST)"
   ]
  },
  {
   "cell_type": "code",
   "execution_count": 3,
   "metadata": {},
   "outputs": [
    {
     "name": "stdout",
     "output_type": "stream",
     "text": [
      "Downloading http://yann.lecun.com/exdb/mnist/train-images-idx3-ubyte.gz\n",
      "Failed to download (trying next):\n",
      "HTTP Error 404: Not Found\n",
      "\n",
      "Downloading https://ossci-datasets.s3.amazonaws.com/mnist/train-images-idx3-ubyte.gz\n",
      "Downloading https://ossci-datasets.s3.amazonaws.com/mnist/train-images-idx3-ubyte.gz to ./data/MNIST/raw/train-images-idx3-ubyte.gz\n"
     ]
    },
    {
     "name": "stderr",
     "output_type": "stream",
     "text": [
      "100%|██████████| 9912422/9912422 [00:04<00:00, 2072106.85it/s]\n"
     ]
    },
    {
     "name": "stdout",
     "output_type": "stream",
     "text": [
      "Extracting ./data/MNIST/raw/train-images-idx3-ubyte.gz to ./data/MNIST/raw\n",
      "\n",
      "Downloading http://yann.lecun.com/exdb/mnist/train-labels-idx1-ubyte.gz\n",
      "Failed to download (trying next):\n",
      "HTTP Error 404: Not Found\n",
      "\n",
      "Downloading https://ossci-datasets.s3.amazonaws.com/mnist/train-labels-idx1-ubyte.gz\n",
      "Downloading https://ossci-datasets.s3.amazonaws.com/mnist/train-labels-idx1-ubyte.gz to ./data/MNIST/raw/train-labels-idx1-ubyte.gz\n"
     ]
    },
    {
     "name": "stderr",
     "output_type": "stream",
     "text": [
      "100%|██████████| 28881/28881 [00:00<00:00, 174738.72it/s]\n"
     ]
    },
    {
     "name": "stdout",
     "output_type": "stream",
     "text": [
      "Extracting ./data/MNIST/raw/train-labels-idx1-ubyte.gz to ./data/MNIST/raw\n",
      "\n",
      "Downloading http://yann.lecun.com/exdb/mnist/t10k-images-idx3-ubyte.gz\n",
      "Failed to download (trying next):\n",
      "HTTP Error 404: Not Found\n",
      "\n",
      "Downloading https://ossci-datasets.s3.amazonaws.com/mnist/t10k-images-idx3-ubyte.gz\n",
      "Downloading https://ossci-datasets.s3.amazonaws.com/mnist/t10k-images-idx3-ubyte.gz to ./data/MNIST/raw/t10k-images-idx3-ubyte.gz\n"
     ]
    },
    {
     "name": "stderr",
     "output_type": "stream",
     "text": [
      "100%|██████████| 1648877/1648877 [00:05<00:00, 309899.33it/s]\n"
     ]
    },
    {
     "name": "stdout",
     "output_type": "stream",
     "text": [
      "Extracting ./data/MNIST/raw/t10k-images-idx3-ubyte.gz to ./data/MNIST/raw\n",
      "\n",
      "Downloading http://yann.lecun.com/exdb/mnist/t10k-labels-idx1-ubyte.gz\n",
      "Failed to download (trying next):\n",
      "HTTP Error 404: Not Found\n",
      "\n",
      "Downloading https://ossci-datasets.s3.amazonaws.com/mnist/t10k-labels-idx1-ubyte.gz\n",
      "Downloading https://ossci-datasets.s3.amazonaws.com/mnist/t10k-labels-idx1-ubyte.gz to ./data/MNIST/raw/t10k-labels-idx1-ubyte.gz\n"
     ]
    },
    {
     "name": "stderr",
     "output_type": "stream",
     "text": [
      "100%|██████████| 4542/4542 [00:00<00:00, 1100042.08it/s]"
     ]
    },
    {
     "name": "stdout",
     "output_type": "stream",
     "text": [
      "Extracting ./data/MNIST/raw/t10k-labels-idx1-ubyte.gz to ./data/MNIST/raw\n",
      "\n"
     ]
    },
    {
     "name": "stderr",
     "output_type": "stream",
     "text": [
      "\n"
     ]
    }
   ],
   "source": [
    "transform = transforms.Compose([\n",
    "    transforms.ToTensor(), # Converts to [0, 1] tensor\n",
    "    # transforms.Normalize((0.1307,), (0.3081,)) # Optional: Standard MNIST normalization\n",
    "])\n",
    "\n",
    "train_dataset = datasets.MNIST('./data', train=True, download=True, transform=transform)\n",
    "test_dataset = datasets.MNIST('./data', train=False, download=True, transform=transform)\n",
    "\n",
    "train_loader = DataLoader(train_dataset, batch_size=BATCH_SIZE, shuffle=True)\n",
    "test_loader = DataLoader(test_dataset, batch_size=BATCH_SIZE, shuffle=False)"
   ]
  },
  {
   "cell_type": "markdown",
   "metadata": {},
   "source": [
    "## 5. VAE Model Definition\n",
    "\n",
    "We'll define the VAE as a `nn.Module`."
   ]
  },
  {
   "cell_type": "markdown",
   "metadata": {},
   "source": [
    "### 5.1 Encoder Network: $q_\\phi(z|x)$\n",
    "\n",
    "The encoder network takes an input image $x$ and maps it to the parameters of a Gaussian distribution in the latent space. Specifically, it outputs a mean vector $\\mu_z$ and a log-variance vector $\\log(\\sigma_z^2)$. We use log-variance for numerical stability and to ensure $\\sigma_z^2$ is always positive.\n",
    "\n",
    "Structure:\n",
    "1.  Input layer (flattened image)\n",
    "2.  One or more hidden layers (e.g., with ReLU activation)\n",
    "3.  Two separate linear output layers: one for $\\mu_z$ and one for $\\log(\\sigma_z^2)$.\n",
    "\n",
    "The output of the encoder defines $q_\\phi(z|x) = \\mathcal{N}(z; \\mu_z, \\text{diag}(\\sigma_z^2))$."
   ]
  },
  {
   "cell_type": "markdown",
   "metadata": {},
   "source": [
    "### 5.2 Reparameterization Trick\n",
    "\n",
    "To train the VAE using backpropagation, we need to sample $z$ from $q_\\phi(z|x)$. However, the sampling operation itself is stochastic and non-differentiable. The **reparameterization trick** allows us to re-express the sampling process in a way that makes it differentiable.\n",
    "\n",
    "Instead of sampling $z \\sim \\mathcal{N}(\\mu_z, \\sigma_z^2)$, we sample a noise variable $\\epsilon \\sim \\mathcal{N}(0, I)$ (a standard normal distribution, which is parameter-free) and then compute $z$ as:\n",
    "\n",
    "$$ z = \\mu_z + \\sigma_z \\odot \\epsilon $$\n",
    "\n",
    "Here, $\\odot$ denotes element-wise multiplication. Since $\\sigma_z = \\exp(0.5 \\cdot \\log(\\sigma_z^2))$, the equation becomes:\n",
    "\n",
    "$$ z = \\mu_z + \\exp(0.5 \\cdot \\log(\\sigma_z^2)) \\odot \\epsilon $$\n",
    "\n",
    "Now, the stochasticity comes from $\\epsilon$, which is an input to this computation. The transformation from $\\epsilon$, $\\mu_z$, and $\\log(\\sigma_z^2)$ to $z$ is deterministic, allowing gradients to flow back through $\\mu_z$ and $\\log(\\sigma_z^2)$ to the encoder parameters $\\phi$."
   ]
  },
  {
   "cell_type": "markdown",
   "metadata": {},
   "source": [
    "### 5.3 Decoder Network: $p_\\theta(x|z)$\n",
    "\n",
    "The decoder network takes a latent sample $z$ and maps it back to the data space, aiming to reconstruct the original input $x$. Its output, $\\hat{x}$, represents the parameters of the distribution $p_\\theta(x|z)$. For MNIST, where pixel values are typically between 0 and 1, we often model $p_\\theta(x|z)$ as a Bernoulli distribution for each pixel. The decoder outputs the probability parameter for each pixel, often using a sigmoid activation function.\n",
    "\n",
    "Structure:\n",
    "1.  Input layer (latent vector $z$)\n",
    "2.  One or more hidden layers (e.g., with ReLU activation)\n",
    "3.  Output layer (reconstructed image, with sigmoid activation for pixel values in [0,1])."
   ]
  },
  {
   "cell_type": "code",
   "execution_count": null,
   "metadata": {},
   "outputs": [],
   "source": [
    "class VAE(nn.Module):\n",
    "    def __init__(self, input_dim, hidden_dim, latent_dim,\n",
    "                 num_encoder_layers=1, num_decoder_layers=1):\n",
    "        super(VAE, self).__init__()\n",
    "\n",
    "        self.input_dim = input_dim\n",
    "        self.hidden_dim = hidden_dim\n",
    "        self.latent_dim = latent_dim\n",
    "\n",
    "        # === Encoder Part ===\n",
    "        # q_phi(z|x)\n",
    "        encoder_modules = []\n",
    "        # First layer: input_dim -> hidden_dim\n",
    "        encoder_modules.append(nn.Linear(input_dim, hidden_dim))\n",
    "        encoder_modules.append(nn.ReLU())\n",
    "\n",
    "        # Additional hidden layers: hidden_dim -> hidden_dim\n",
    "        # num_encoder_layers specifies the total number of layers that use hidden_dim\n",
    "        # before branching to mu and log_var.\n",
    "        # So, if num_encoder_layers is 1, only the above layer is created.\n",
    "        # If num_encoder_layers is > 1, we add (num_encoder_layers - 1) more.\n",
    "        for _ in range(num_encoder_layers - 1):\n",
    "            encoder_modules.append(nn.Linear(hidden_dim, hidden_dim))\n",
    "            encoder_modules.append(nn.ReLU())\n",
    "\n",
    "        # This sequential block contains all layers up to the one that outputs `hidden_dim` features\n",
    "        self.encoder_shared_layers = nn.Sequential(*encoder_modules)\n",
    "\n",
    "        # From the final shared hidden representation, we get mu and log_var\n",
    "        self.fc_mu = nn.Linear(hidden_dim, latent_dim)      # To output mu\n",
    "        self.fc_log_var = nn.Linear(hidden_dim, latent_dim) # To output log_var\n",
    "\n",
    "        # === Decoder Part ===\n",
    "        # p_theta(x|z)\n",
    "        decoder_modules = []\n",
    "        # First layer: latent_dim -> hidden_dim\n",
    "        decoder_modules.append(nn.Linear(latent_dim, hidden_dim))\n",
    "        decoder_modules.append(nn.ReLU())\n",
    "\n",
    "        # Additional hidden layers: hidden_dim -> hidden_dim\n",
    "        # num_decoder_layers specifies the total number of layers that use hidden_dim\n",
    "        # before the final output layer.\n",
    "        for _ in range(num_decoder_layers - 1):\n",
    "            decoder_modules.append(nn.Linear(hidden_dim, hidden_dim))\n",
    "            decoder_modules.append(nn.ReLU())\n",
    "\n",
    "        # This sequential block contains all layers up to the one that outputs `hidden_dim` features\n",
    "        self. decoder_shared_layers = nn.Sequential(*decoder_modules)\n",
    "\n",
    "        # From the final shared hidden representation, we reconstruct x\n",
    "        self.fc_output = nn.Linear(hidden_dim, input_dim) # To output reconstructed x\n",
    "\n",
    "    def encode(self, x):\n",
    "        \"\"\"Maps input x to mu and log_var for the latent space distribution q_phi(z|x).\"\"\"\n",
    "        # Pass through the shared encoder layers\n",
    "        h_encoder = self.encoder_shared_layers(x)\n",
    "        # Get mu and log_var from the output of the shared layers\n",
    "        mu = self.fc_mu(h_encoder)\n",
    "        log_var = self.fc_log_var(h_encoder)\n",
    "        return mu, log_var\n",
    "\n",
    "    def reparameterize(self, mu, log_var):\n",
    "        std = torch.exp(0.5 * log_var)\n",
    "        eps = torch.randn_like(std)\n",
    "        return mu + eps * std\n",
    "\n",
    "    def decode(self, z):\n",
    "        \"\"\"Maps latent vector z back to the reconstructed data space x_hat.\"\"\"\n",
    "        # Pass through the shared decoder layers\n",
    "        h_decoder = self.decoder_shared_layers(z)\n",
    "        # Get reconstructed x from the output of the shared layers\n",
    "        recon_x = torch.sigmoid(self.fc_output(h_decoder))\n",
    "        return recon_x\n",
    "\n",
    "    def forward(self, x):\n",
    "        x_flat = x.view(-1, self.input_dim)\n",
    "        mu, log_var = self.encode(x_flat)\n",
    "        z = self.reparameterize(mu, log_var)\n",
    "        recon_x = self.decode(z)\n",
    "        return recon_x, mu, log_var\n",
    "\n",
    "# Instantiate the model with configurable number of layers\n",
    "model = VAE(INPUT_DIM, HIDDEN_DIM, LATENT_DIM,\n",
    "            num_encoder_layers=NUM_ENCODER_LAYERS,\n",
    "            num_decoder_layers=NUM_DECODER_LAYERS).to(DEVICE)"
   ]
  },
  {
   "cell_type": "markdown",
   "metadata": {},
   "source": [
    "## 6. Loss Function (ELBO)\n",
    "\n",
    "As mentioned, we want to maximize the ELBO:\n",
    "$$ \\mathcal{L}(\\theta, \\phi; x) = \\mathbb{E}_{q_\\phi(z|x)}[\\log p_\\theta(x|z)] - D_{KL}(q_\\phi(z|x) || p(z)) $$\n",
    "\n",
    "In practice, we minimize the negative ELBO:\n",
    "$$ -\\mathcal{L} = -\\mathbb{E}_{q_\\phi(z|x)}[\\log p_\\theta(x|z)] + D_{KL}(q_\\phi(z|x) || p(z)) $$\n",
    "\n",
    "This is often written as:\n",
    "$$ \\text{Loss} = \\text{Reconstruction Loss} + \\text{KL Divergence} $$\n",
    "\n",
    "1.  **Reconstruction Loss**: For Bernoulli distributed outputs (pixel values in [0,1] from sigmoid), the term $-\\mathbb{E}_{q_\\phi(z|x)}[\\log p_\\theta(x|z)]$ becomes the **Binary Cross-Entropy (BCE)** between the original input $x$ and the reconstructed output $\\hat{x}$ (which are the Bernoulli parameters from the decoder).\n",
    "    $$ \\text{BCE}(x, \\hat{x}) = - \\sum_{i=1}^{\\text{dim}(x)} [x_i \\log(\\hat{x}_i) + (1-x_i) \\log(1-\\hat{x}_i)] $$\n",
    "    PyTorch's `F.binary_cross_entropy` with `reduction='sum'` calculates this.\n",
    "\n",
    "2.  **KL Divergence**: The KL divergence between $q_\\phi(z|x) = \\mathcal{N}(\\mu_z, \\text{diag}(\\sigma_z^2))$ and the prior $p(z) = \\mathcal{N}(0, I)$ has an analytical solution:\n",
    "    $$ D_{KL}(\\mathcal{N}(\\mu_z, \\sigma_z^2) || \\mathcal{N}(0, I)) = -0.5 \\sum_{j=1}^{\\text{LATENT DIM}} (1 + \\log(\\sigma_{z,j}^2) - \\mu_{z,j}^2 - \\sigma_{z,j}^2) $$\n",
    "\n",
    "    Where $j$ indexes the dimensions of the latent space. Remember $\\sigma_{z,j}^2 = \\exp(\\log(\\sigma_{z,j}^2))$."
   ]
  },
  {
   "cell_type": "code",
   "execution_count": 5,
   "metadata": {},
   "outputs": [],
   "source": [
    "def loss_function(recon_x, x, mu, log_var):\n",
    "    \"\"\"\n",
    "    Computes the VAE loss, which is the sum of reconstruction loss and KL divergence.\n",
    "    recon_x: a tensor of shape (batch_size, input_dim) - reconstructed input\n",
    "    x: a tensor of shape (batch_size, input_dim) - original input\n",
    "    mu: a tensor of shape (batch_size, latent_dim) - latent mean\n",
    "    log_var: a tensor of shape (batch_size, latent_dim) - latent log variance\n",
    "    \"\"\"\n",
    "    # 1. Reconstruction Loss (Binary Cross Entropy)\n",
    "    # We use F.binary_cross_entropy. It expects recon_x (probabilities) and x (binary targets).\n",
    "    # The sum over dimensions is important for proper weighting against KLD.\n",
    "    # x.view(-1, INPUT_DIM) ensures x is flattened just like recon_x\n",
    "    BCE = F.binary_cross_entropy(recon_x, x.view(-1, INPUT_DIM), reduction='sum')\n",
    "    \n",
    "    # 2. KL Divergence\n",
    "    # D_KL(q_phi(z|x) || p(z)) = -0.5 * sum(1 + log(sigma^2) - mu^2 - sigma^2)\n",
    "    # where sigma^2 = exp(log_var)\n",
    "    KLD = -0.5 * torch.sum(1 + log_var - mu.pow(2) - log_var.exp())\n",
    "    \n",
    "    # Total loss\n",
    "    return BCE + KLD\n",
    "\n",
    "# Optimizer\n",
    "optimizer = optim.Adam(model.parameters(), lr=LEARNING_RATE)"
   ]
  },
  {
   "cell_type": "markdown",
   "metadata": {},
   "source": [
    "## 7. Training Loop"
   ]
  },
  {
   "cell_type": "code",
   "execution_count": 6,
   "metadata": {},
   "outputs": [
    {
     "name": "stdout",
     "output_type": "stream",
     "text": [
      "Train Epoch: 1 [0/60000 (0%)]\tLoss: 547.718140\n",
      "Train Epoch: 1 [12800/60000 (21%)]\tLoss: 190.915817\n",
      "Train Epoch: 1 [25600/60000 (43%)]\tLoss: 153.117828\n",
      "Train Epoch: 1 [38400/60000 (64%)]\tLoss: 137.831146\n",
      "Train Epoch: 1 [51200/60000 (85%)]\tLoss: 123.412399\n",
      "====> Epoch: 1 Average loss: 165.6819\n",
      "====> Test set loss: 128.3443\n",
      "Train Epoch: 2 [0/60000 (0%)]\tLoss: 131.533340\n",
      "Train Epoch: 2 [12800/60000 (21%)]\tLoss: 119.840439\n",
      "Train Epoch: 2 [25600/60000 (43%)]\tLoss: 123.036461\n",
      "Train Epoch: 2 [38400/60000 (64%)]\tLoss: 123.405029\n",
      "Train Epoch: 2 [51200/60000 (85%)]\tLoss: 112.811142\n",
      "====> Epoch: 2 Average loss: 121.7666\n",
      "====> Test set loss: 116.1347\n",
      "Train Epoch: 3 [0/60000 (0%)]\tLoss: 118.171165\n",
      "Train Epoch: 3 [12800/60000 (21%)]\tLoss: 113.517349\n"
     ]
    },
    {
     "ename": "KeyboardInterrupt",
     "evalue": "",
     "output_type": "error",
     "traceback": [
      "\u001b[0;31m---------------------------------------------------------------------------\u001b[0m",
      "\u001b[0;31mKeyboardInterrupt\u001b[0m                         Traceback (most recent call last)",
      "Cell \u001b[0;32mIn [6], line 65\u001b[0m\n\u001b[1;32m     63\u001b[0m test_losses \u001b[38;5;241m=\u001b[39m []\n\u001b[1;32m     64\u001b[0m \u001b[38;5;28;01mfor\u001b[39;00m epoch \u001b[38;5;129;01min\u001b[39;00m \u001b[38;5;28mrange\u001b[39m(\u001b[38;5;241m1\u001b[39m, EPOCHS \u001b[38;5;241m+\u001b[39m \u001b[38;5;241m1\u001b[39m):\n\u001b[0;32m---> 65\u001b[0m     train_loss \u001b[38;5;241m=\u001b[39m train(epoch)\n\u001b[1;32m     66\u001b[0m     test_loss \u001b[38;5;241m=\u001b[39m test(epoch)\n\u001b[1;32m     67\u001b[0m     train_losses\u001b[38;5;241m.\u001b[39mappend(train_loss)\n",
      "Cell \u001b[0;32mIn [6], line 13\u001b[0m, in \u001b[0;36mtrain\u001b[0;34m(epoch)\u001b[0m\n\u001b[1;32m     10\u001b[0m recon_batch, mu, log_var \u001b[38;5;241m=\u001b[39m model(data)\n\u001b[1;32m     12\u001b[0m \u001b[38;5;66;03m# Calculate loss\u001b[39;00m\n\u001b[0;32m---> 13\u001b[0m loss \u001b[38;5;241m=\u001b[39m \u001b[43mloss_function\u001b[49m\u001b[43m(\u001b[49m\u001b[43mrecon_batch\u001b[49m\u001b[43m,\u001b[49m\u001b[43m \u001b[49m\u001b[43mdata\u001b[49m\u001b[43m,\u001b[49m\u001b[43m \u001b[49m\u001b[43mmu\u001b[49m\u001b[43m,\u001b[49m\u001b[43m \u001b[49m\u001b[43mlog_var\u001b[49m\u001b[43m)\u001b[49m\n\u001b[1;32m     15\u001b[0m \u001b[38;5;66;03m# Backward pass and optimize\u001b[39;00m\n\u001b[1;32m     16\u001b[0m loss\u001b[38;5;241m.\u001b[39mbackward()\n",
      "Cell \u001b[0;32mIn [5], line 13\u001b[0m, in \u001b[0;36mloss_function\u001b[0;34m(recon_x, x, mu, log_var)\u001b[0m\n\u001b[1;32m      2\u001b[0m \u001b[38;5;124;03m\"\"\"\u001b[39;00m\n\u001b[1;32m      3\u001b[0m \u001b[38;5;124;03mComputes the VAE loss, which is the sum of reconstruction loss and KL divergence.\u001b[39;00m\n\u001b[1;32m      4\u001b[0m \u001b[38;5;124;03mrecon_x: a tensor of shape (batch_size, input_dim) - reconstructed input\u001b[39;00m\n\u001b[0;32m   (...)\u001b[0m\n\u001b[1;32m      7\u001b[0m \u001b[38;5;124;03mlog_var: a tensor of shape (batch_size, latent_dim) - latent log variance\u001b[39;00m\n\u001b[1;32m      8\u001b[0m \u001b[38;5;124;03m\"\"\"\u001b[39;00m\n\u001b[1;32m      9\u001b[0m \u001b[38;5;66;03m# 1. Reconstruction Loss (Binary Cross Entropy)\u001b[39;00m\n\u001b[1;32m     10\u001b[0m \u001b[38;5;66;03m# We use F.binary_cross_entropy. It expects recon_x (probabilities) and x (binary targets).\u001b[39;00m\n\u001b[1;32m     11\u001b[0m \u001b[38;5;66;03m# The sum over dimensions is important for proper weighting against KLD.\u001b[39;00m\n\u001b[1;32m     12\u001b[0m \u001b[38;5;66;03m# x.view(-1, INPUT_DIM) ensures x is flattened just like recon_x\u001b[39;00m\n\u001b[0;32m---> 13\u001b[0m BCE \u001b[38;5;241m=\u001b[39m \u001b[43mF\u001b[49m\u001b[38;5;241;43m.\u001b[39;49m\u001b[43mbinary_cross_entropy\u001b[49m\u001b[43m(\u001b[49m\u001b[43mrecon_x\u001b[49m\u001b[43m,\u001b[49m\u001b[43m \u001b[49m\u001b[43mx\u001b[49m\u001b[38;5;241;43m.\u001b[39;49m\u001b[43mview\u001b[49m\u001b[43m(\u001b[49m\u001b[38;5;241;43m-\u001b[39;49m\u001b[38;5;241;43m1\u001b[39;49m\u001b[43m,\u001b[49m\u001b[43m \u001b[49m\u001b[43mINPUT_DIM\u001b[49m\u001b[43m)\u001b[49m\u001b[43m,\u001b[49m\u001b[43m \u001b[49m\u001b[43mreduction\u001b[49m\u001b[38;5;241;43m=\u001b[39;49m\u001b[38;5;124;43m'\u001b[39;49m\u001b[38;5;124;43msum\u001b[39;49m\u001b[38;5;124;43m'\u001b[39;49m\u001b[43m)\u001b[49m\n\u001b[1;32m     15\u001b[0m \u001b[38;5;66;03m# 2. KL Divergence\u001b[39;00m\n\u001b[1;32m     16\u001b[0m \u001b[38;5;66;03m# D_KL(q_phi(z|x) || p(z)) = -0.5 * sum(1 + log(sigma^2) - mu^2 - sigma^2)\u001b[39;00m\n\u001b[1;32m     17\u001b[0m \u001b[38;5;66;03m# where sigma^2 = exp(log_var)\u001b[39;00m\n\u001b[1;32m     18\u001b[0m KLD \u001b[38;5;241m=\u001b[39m \u001b[38;5;241m-\u001b[39m\u001b[38;5;241m0.5\u001b[39m \u001b[38;5;241m*\u001b[39m torch\u001b[38;5;241m.\u001b[39msum(\u001b[38;5;241m1\u001b[39m \u001b[38;5;241m+\u001b[39m log_var \u001b[38;5;241m-\u001b[39m mu\u001b[38;5;241m.\u001b[39mpow(\u001b[38;5;241m2\u001b[39m) \u001b[38;5;241m-\u001b[39m log_var\u001b[38;5;241m.\u001b[39mexp())\n",
      "File \u001b[0;32m~/opt/anaconda3/envs/3dcv-students/lib/python3.10/site-packages/torch/nn/functional.py:3083\u001b[0m, in \u001b[0;36mbinary_cross_entropy\u001b[0;34m(input, target, weight, size_average, reduce, reduction)\u001b[0m\n\u001b[1;32m   3080\u001b[0m     new_size \u001b[38;5;241m=\u001b[39m _infer_size(target\u001b[38;5;241m.\u001b[39msize(), weight\u001b[38;5;241m.\u001b[39msize())\n\u001b[1;32m   3081\u001b[0m     weight \u001b[38;5;241m=\u001b[39m weight\u001b[38;5;241m.\u001b[39mexpand(new_size)\n\u001b[0;32m-> 3083\u001b[0m \u001b[38;5;28;01mreturn\u001b[39;00m \u001b[43mtorch\u001b[49m\u001b[38;5;241;43m.\u001b[39;49m\u001b[43m_C\u001b[49m\u001b[38;5;241;43m.\u001b[39;49m\u001b[43m_nn\u001b[49m\u001b[38;5;241;43m.\u001b[39;49m\u001b[43mbinary_cross_entropy\u001b[49m\u001b[43m(\u001b[49m\u001b[38;5;28;43minput\u001b[39;49m\u001b[43m,\u001b[49m\u001b[43m \u001b[49m\u001b[43mtarget\u001b[49m\u001b[43m,\u001b[49m\u001b[43m \u001b[49m\u001b[43mweight\u001b[49m\u001b[43m,\u001b[49m\u001b[43m \u001b[49m\u001b[43mreduction_enum\u001b[49m\u001b[43m)\u001b[49m\n",
      "\u001b[0;31mKeyboardInterrupt\u001b[0m: "
     ]
    }
   ],
   "source": [
    "def train(epoch):\n",
    "    model.train() # Set model to training mode\n",
    "    train_loss = 0\n",
    "    for batch_idx, (data, _) in enumerate(train_loader): # We don't need labels for VAE\n",
    "        data = data.to(DEVICE)\n",
    "        \n",
    "        optimizer.zero_grad()\n",
    "        \n",
    "        # Forward pass\n",
    "        recon_batch, mu, log_var = model(data)\n",
    "        \n",
    "        # Calculate loss\n",
    "        loss = loss_function(recon_batch, data, mu, log_var)\n",
    "        \n",
    "        # Backward pass and optimize\n",
    "        loss.backward()\n",
    "        train_loss += loss.item()\n",
    "        optimizer.step()\n",
    "        \n",
    "        if batch_idx % 100 == 0:\n",
    "            print(f'Train Epoch: {epoch} [{batch_idx * len(data)}/{len(train_loader.dataset)} ' \n",
    "                  f'({100. * batch_idx / len(train_loader):.0f}%)]\\tLoss: {loss.item() / len(data):.6f}')\n",
    "\n",
    "    avg_train_loss = train_loss / len(train_loader.dataset)\n",
    "    print(f'====> Epoch: {epoch} Average loss: {avg_train_loss:.4f}')\n",
    "    return avg_train_loss\n",
    "\n",
    "def test(epoch):\n",
    "    model.eval() # Set model to evaluation mode\n",
    "    test_loss = 0\n",
    "    with torch.no_grad(): # No gradients needed for evaluation\n",
    "        for i, (data, _) in enumerate(test_loader):\n",
    "            data = data.to(DEVICE)\n",
    "            recon_batch, mu, log_var = model(data)\n",
    "            test_loss += loss_function(recon_batch, data, mu, log_var).item()\n",
    "            \n",
    "            # For the first batch in the first epoch, save original and reconstructed images for visualization\n",
    "            if i == 0 and epoch % 5 == 0: # Show every 5 epochs\n",
    "                n = min(data.size(0), 8) # Display up to 8 images\n",
    "                comparison = torch.cat([data[:n].view(-1, 1, 28, 28), # Original\n",
    "                                      recon_batch.view(BATCH_SIZE, 1, 28, 28)[:n]]) # Reconstructed\n",
    "                # Convert to numpy for plotting\n",
    "                comparison_np = comparison.cpu().numpy().squeeze()\n",
    "                \n",
    "                fig, axes = plt.subplots(2, n, figsize=(n*1.5, 3))\n",
    "                for img_idx in range(n):\n",
    "                    axes[0, img_idx].imshow(comparison_np[img_idx], cmap='gray')\n",
    "                    axes[0, img_idx].set_title(\"Original\")\n",
    "                    axes[0, img_idx].axis('off')\n",
    "                    axes[1, img_idx].imshow(comparison_np[n+img_idx], cmap='gray')\n",
    "                    axes[1, img_idx].set_title(\"Recon\")\n",
    "                    axes[1, img_idx].axis('off')\n",
    "                plt.suptitle(f\"Epoch {epoch} Reconstructions\", fontsize=16)\n",
    "                plt.tight_layout(rect=[0, 0, 1, 0.96])\n",
    "                plt.show()\n",
    "\n",
    "    avg_test_loss = test_loss / len(test_loader.dataset)\n",
    "    print(f'====> Test set loss: {avg_test_loss:.4f}')\n",
    "    return avg_test_loss\n",
    "\n",
    "# Start training\n",
    "train_losses = []\n",
    "test_losses = []\n",
    "for epoch in range(1, EPOCHS + 1):\n",
    "    train_loss = train(epoch)\n",
    "    test_loss = test(epoch)\n",
    "    train_losses.append(train_loss)\n",
    "    test_losses.append(test_loss)"
   ]
  },
  {
   "cell_type": "markdown",
   "metadata": {},
   "source": [
    "## 8. Visualizing Results"
   ]
  },
  {
   "cell_type": "markdown",
   "metadata": {},
   "source": [
    "### 8.1 Loss Curves"
   ]
  },
  {
   "cell_type": "code",
   "execution_count": 7,
   "metadata": {},
   "outputs": [
    {
     "data": {
      "image/png": "[encoded data removed]",
      "text/plain": [
       "<Figure size 1000x500 with 1 Axes>"
      ]
     },
     "metadata": {},
     "output_type": "display_data"
    }
   ],
   "source": [
    "plt.figure(figsize=(10, 5))\n",
    "plt.plot(train_losses, label='Train Loss')\n",
    "plt.plot(test_losses, label='Test Loss')\n",
    "plt.title('VAE Training and Test Loss')\n",
    "plt.xlabel('Epochs')\n",
    "plt.ylabel('Loss')\n",
    "plt.legend()\n",
    "plt.grid(True)\n",
    "plt.show()"
   ]
  },
  {
   "cell_type": "markdown",
   "metadata": {},
   "source": [
    "### 8.2 Generating New Samples\n",
    "\n",
    "To generate new samples, we sample $z$ from the prior distribution $p(z) = \\mathcal{N}(0, I)$ and pass it through the decoder $p_\\theta(x|z)$."
   ]
  },
  {
   "cell_type": "code",
   "execution_count": 8,
   "metadata": {},
   "outputs": [
    {
     "data": {
      "image/png": "[encoded data removed]",
      "text/plain": [
       "<Figure size 480x480 with 16 Axes>"
      ]
     },
     "metadata": {},
     "output_type": "display_data"
    }
   ],
   "source": [
    "def generate_samples(num_samples=64):\n",
    "    model.eval()\n",
    "    with torch.no_grad():\n",
    "        # Sample z from the prior N(0, I)\n",
    "        z_sample = torch.randn(num_samples, LATENT_DIM).to(DEVICE)\n",
    "        # Decode z to generate new images\n",
    "        generated_images = model.decode(z_sample).cpu()\n",
    "        \n",
    "    # Reshape and plot\n",
    "    generated_images = generated_images.view(num_samples, 1, 28, 28)\n",
    "    \n",
    "    grid_size = int(np.sqrt(num_samples))\n",
    "    fig, axes = plt.subplots(grid_size, grid_size, figsize=(grid_size*1.2, grid_size*1.2))\n",
    "    for i, ax in enumerate(axes.flat):\n",
    "        if i < num_samples:\n",
    "            ax.imshow(generated_images[i].squeeze(), cmap='gray')\n",
    "            ax.axis('off')\n",
    "    plt.suptitle('Generated Samples from Latent Space', fontsize=16)\n",
    "    plt.tight_layout(rect=[0, 0, 1, 0.96])\n",
    "    plt.show()\n",
    "\n",
    "generate_samples(num_samples=16) # Generate 16 samples (4x4 grid)"
   ]
  },
  {
   "cell_type": "markdown",
   "metadata": {},
   "source": [
    "### 8.3 Visualizing Latent Space (if LATENT_DIM = 2)\n",
    "\n",
    "If `LATENT_DIM` was set to 2, we can visualize how the MNIST digits are distributed in this 2D latent space."
   ]
  },
  {
   "cell_type": "code",
   "execution_count": 9,
   "metadata": {},
   "outputs": [
    {
     "name": "stdout",
     "output_type": "stream",
     "text": [
      "Latent space visualization is only for LATENT_DIM=2.\n",
      "Current LATENT_DIM is 20.\n"
     ]
    }
   ],
   "source": [
    "def plot_latent_space():\n",
    "    if LATENT_DIM != 2:\n",
    "        print(\"Latent space visualization is only for LATENT_DIM=2.\")\n",
    "        print(f\"Current LATENT_DIM is {LATENT_DIM}.\")\n",
    "        return\n",
    "\n",
    "    model.eval()\n",
    "    latent_vectors = []\n",
    "    labels_list = []\n",
    "    with torch.no_grad():\n",
    "        for data, labels in test_loader: # Use test_loader for a manageable number of points\n",
    "            data = data.to(DEVICE)\n",
    "            mu, _ = model.encode(data.view(-1, INPUT_DIM))\n",
    "            latent_vectors.append(mu.cpu())\n",
    "            labels_list.append(labels.cpu())\n",
    "    \n",
    "    latent_vectors = torch.cat(latent_vectors).numpy()\n",
    "    labels_list = torch.cat(labels_list).numpy()\n",
    "    \n",
    "    plt.figure(figsize=(12, 10))\n",
    "    scatter = plt.scatter(latent_vectors[:, 0], latent_vectors[:, 1], c=labels_list, cmap='tab10', alpha=0.7, s=10)\n",
    "    plt.colorbar(scatter, ticks=range(10))\n",
    "    plt.title('MNIST Latent Space ($\\mu$ vectors)')\n",
    "    plt.xlabel('Latent Dimension 1')\n",
    "    plt.ylabel('Latent Dimension 2')\n",
    "    plt.grid(True)\n",
    "    plt.show()\n",
    "\n",
    "plot_latent_space()"
   ]
  },
  {
   "cell_type": "markdown",
   "metadata": {},
   "source": [
    "## 9. Conclusion\n",
    "\n",
    "This notebook provided a step-by-step implementation of a Variational Autoencoder in PyTorch.\n",
    "\n",
    "Key takeaways:\n",
    "- **Encoder $q_\\phi(z|x)$**: Maps input $x$ to parameters $(\\mu, \\log \\sigma^2)$ of a Gaussian latent distribution.\n",
    "- **Reparameterization Trick**: $z = \\mu + \\sigma \\odot \\epsilon$, enabling backpropagation through the sampling process.\n",
    "- **Decoder $p_\\theta(x|z)$**: Maps latent sample $z$ back to reconstruct $x$.\n",
    "- **Loss Function (ELBO)**: Combines reconstruction loss (e.g., BCE) and KL divergence to regularize the latent space.\n",
    "\n",
    "VAEs are powerful generative models capable of learning complex data distributions and generating new, realistic samples."
   ]
  }
 ],
 "metadata": {
  "kernelspec": {
   "display_name": "3dcv-students",
   "language": "python",
   "name": "python3"
  },
  "language_info": {
   "codemirror_mode": {
    "name": "ipython",
    "version": 3
   },
   "file_extension": ".py",
   "mimetype": "text/x-python",
   "name": "python",
   "nbconvert_exporter": "python",
   "pygments_lexer": "ipython3",
   "version": "3.10.15"
  }
 },
 "nbformat": 4,
 "nbformat_minor": 5
}
